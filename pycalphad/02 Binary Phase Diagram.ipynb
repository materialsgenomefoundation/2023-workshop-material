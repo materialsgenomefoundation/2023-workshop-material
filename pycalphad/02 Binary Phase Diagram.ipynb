{
 "cells": [
  {
   "cell_type": "markdown",
   "metadata": {},
   "source": [
    "# Calculating Energy Surfaces of Binary Systems"
   ]
  },
  {
   "cell_type": "code",
   "execution_count": null,
   "metadata": {},
   "outputs": [],
   "source": [
    "%matplotlib inline\n",
    "import matplotlib.pyplot as plt\n",
    "\n",
    "from pycalphad import Database, calculate\n",
    "from pycalphad.plot.utils import phase_legend\n",
    "import numpy as np\n",
    "\n",
    "db_nbre = Database('databases/nbre_liu.tdb')\n",
    "my_phases_nbre = ['CHI_RENB', 'SIGMARENB', 'FCC_RENB', 'LIQUID_RENB', 'BCC_RENB', 'HCP_RENB']\n",
    "\n",
    "legend_handles, colorlist = phase_legend(my_phases_nbre)\n",
    "\n",
    "fig = plt.figure(figsize=(9,6))\n",
    "ax = fig.gca()\n",
    "for name in my_phases_nbre:\n",
    "    result = calculate(db_nbre, ['NB', 'RE'], name, P=101325, T=2800, output='GM')\n",
    "    ax.scatter(result.X.sel(component='RE'), result.GM,\n",
    "               marker='.', s=5, color=colorlist[name.upper()])\n",
    "ax.set_xlim((0, 1))\n",
    "ax.legend(handles=legend_handles, loc='center left', bbox_to_anchor=(1, 0.6))\n",
    "plt.show()"
   ]
  },
  {
   "cell_type": "markdown",
   "metadata": {},
   "source": [
    "# Plotting Isobaric Binary Phase Diagrams with `binplot`\n",
    "\n",
    "These are a few examples of how to use Thermo-Calc TDB files to calculate isobaric binary phase diagrams.\n",
    "\n",
    "Note that, at the time of writing, invariant reactions (three-phase 'regions' on binary diagrams) are not yet automatically detected so they\n",
    "are not drawn on the diagram."
   ]
  },
  {
   "cell_type": "markdown",
   "metadata": {},
   "source": [
    "## Al-Zn (S. Mey, 1993)"
   ]
  },
  {
   "cell_type": "markdown",
   "metadata": {},
   "source": [
    "The miscibility gap in the fcc phase is included in the Al-Zn diagram, shown below.\n",
    "\n",
    "The format for specifying a range of a state variable is (*start*, *stop*, *step*)."
   ]
  },
  {
   "cell_type": "code",
   "execution_count": null,
   "metadata": {},
   "outputs": [],
   "source": [
    "from pycalphad import binplot\n",
    "import pycalphad.variables as v\n",
    "db_alzn = Database('databases/alzn_mey.tdb')\n",
    "my_phases_alzn = ['LIQUID', 'FCC_A1', 'HCP_A3']\n",
    "fig = plt.figure(figsize=(9,6))\n",
    "binplot(db_alzn, ['AL', 'ZN', 'VA'] , my_phases_alzn, {v.X('ZN'):(0,1,0.02),\n",
    "                                                       v.T: (300, 1000, 10), v.P:101325}, plot_kwargs={'ax': fig.gca()})\n",
    "plt.show()"
   ]
  },
  {
   "cell_type": "markdown",
   "metadata": {},
   "source": [
    "## Cu-O (L. Schramm, 2005)\n"
   ]
  },
  {
   "cell_type": "code",
   "execution_count": null,
   "metadata": {},
   "outputs": [],
   "source": [
    "db_cuo = Database('databases/cuo_schramm.tdb')\n",
    "my_components_cuo = ['CU', 'CU+1', 'CU+2', 'CU+3', 'O', 'O-2', 'O2', 'VA']\n",
    "my_phases_cuo = ['IONIC_LIQ', 'FCC_A1', 'CU2O', 'CUO']\n",
    "\n",
    "fig = plt.figure(figsize=(9,6))\n",
    "ax = fig.gca()\n",
    "binplot(db_cuo, my_components_cuo, my_phases_cuo, {v.X('O'): (0,0.6,0.02),\n",
    "                                                       v.T: (1273, 1673, 10), v.P:101325},\n",
    "        plot_kwargs={'ax': ax})\n",
    "ax.set_xlim((0, 0.6))\n",
    "ax.set_title('Cu-O Phase Diagram')\n",
    "fig.show()"
   ]
  },
  {
   "cell_type": "code",
   "execution_count": null,
   "metadata": {},
   "outputs": [],
   "source": []
  }
 ],
 "metadata": {
  "kernelspec": {
   "display_name": "Python 3",
   "language": "python",
   "name": "python3"
  },
  "language_info": {
   "codemirror_mode": {
    "name": "ipython",
    "version": 3
   },
   "file_extension": ".py",
   "mimetype": "text/x-python",
   "name": "python",
   "nbconvert_exporter": "python",
   "pygments_lexer": "ipython3",
   "version": "3.9.5"
  }
 },
 "nbformat": 4,
 "nbformat_minor": 4
}
