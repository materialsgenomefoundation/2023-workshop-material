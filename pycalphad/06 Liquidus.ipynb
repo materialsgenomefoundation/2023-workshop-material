{
 "cells": [
  {
   "cell_type": "code",
   "execution_count": null,
   "id": "b5ed2f75-c6ec-481b-8717-706c5b8d7066",
   "metadata": {},
   "outputs": [],
   "source": [
    "from pycalphad import Database, variables as v\n",
    "from localeq import composition_set, local_equilibrium\n",
    "import numpy as np"
   ]
  },
  {
   "cell_type": "code",
   "execution_count": null,
   "id": "f4d50c2d-a95f-4ffa-ab99-bf9b6cef7cd2",
   "metadata": {},
   "outputs": [],
   "source": [
    "dbf = Database('databases/mc_fe_v2.059.pycalphad.tdb')"
   ]
  },
  {
   "cell_type": "markdown",
   "id": "4123269b-0bc7-48d9-a580-34f5990fb947",
   "metadata": {},
   "source": [
    "# Liquidus Temperature\n",
    "The liquidus temperature is a thermodynamic quantity which is defined to exist at the onset of solid formation. The liquidus temperature is a strong function of temperature in most alloys. We can compute the liquidus temperature by \"fixing\" the solid phase to be stable with zero amount, in coexistence with the liquid. This ensures the liquid phase will be on the minimum-energy hyperplane for any converged solution. We then use the energy minimizer to find a temperature which satisfies all the constraints. Note that, in general, there may be multiple (or zero) solutions to a fixed-phase condition, and they tend to be sensitive to choice of starting point."
   ]
  },
  {
   "cell_type": "code",
   "execution_count": null,
   "id": "7eac42e6-49a1-4cd6-b817-1831c4c1a786",
   "metadata": {},
   "outputs": [],
   "source": [
    "comps = ['FE', 'MN', 'VA']\n",
    "\n",
    "state_variables = {v.N: 1, v.P: 1e5}\n",
    "\n",
    "composition_sets = [\n",
    "                    composition_set(dbf, comps, 'LIQUID',\n",
    "                                    {**state_variables, v.T: 1000},\n",
    "                                    phase_amt=1,\n",
    "                                   ),\n",
    "                    composition_set(dbf, comps, 'BCC_A2',\n",
    "                                    {**state_variables, v.T: 1000}, fixed=True, phase_amt=0,\n",
    "                                   ),  \n",
    "                   ]\n",
    "\n",
    "result, composition_sets = local_equilibrium(composition_sets, comps, {**state_variables, v.X('MN'): 0.1})\n",
    "print('Converged: ', result.converged)\n",
    "print('Final Composition Sets: ', composition_sets)\n",
    "print('Final Temperature', result.x[2], 'K', f'({int(result.x[2]-273.15)} deg C)')"
   ]
  },
  {
   "cell_type": "code",
   "execution_count": null,
   "id": "2c9325d7-dd49-4af4-ac6b-e5c4985732d0",
   "metadata": {},
   "outputs": [],
   "source": []
  }
 ],
 "metadata": {
  "kernelspec": {
   "display_name": "Python 3 (ipykernel)",
   "language": "python",
   "name": "python3"
  },
  "language_info": {
   "codemirror_mode": {
    "name": "ipython",
    "version": 3
   },
   "file_extension": ".py",
   "mimetype": "text/x-python",
   "name": "python",
   "nbconvert_exporter": "python",
   "pygments_lexer": "ipython3",
   "version": "3.8.0"
  }
 },
 "nbformat": 4,
 "nbformat_minor": 5
}
