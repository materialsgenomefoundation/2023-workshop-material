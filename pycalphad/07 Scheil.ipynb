{
 "cells": [
  {
   "cell_type": "code",
   "execution_count": null,
   "id": "c21811d3-2fb5-4e60-8ea4-13cd8f0f088a",
   "metadata": {},
   "outputs": [],
   "source": [
    "import matplotlib.pyplot as plt\n",
    "from pycalphad import Database, variables as v\n",
    "from scheil import simulate_scheil_solidification\n",
    "\n",
    "# setup the simulation parameters\n",
    "dbf = Database('databases/alzn_mey.tdb')\n",
    "comps = ['AL', 'ZN', 'VA']\n",
    "phases = sorted(dbf.phases.keys())\n",
    "\n",
    "liquid_phase_name = 'LIQUID'\n",
    "initial_composition = {v.X('ZN'): 0.3}\n",
    "start_temperature = 850\n",
    "\n",
    "# perform the simulation\n",
    "sol_res = simulate_scheil_solidification(dbf, comps, phases, initial_composition, start_temperature, step_temperature=1.0)\n",
    "\n",
    "# plot the result\n",
    "for phase_name, amounts in sol_res.cum_phase_amounts.items():\n",
    "    plt.plot(sol_res.temperatures, amounts, label=phase_name)\n",
    "plt.plot(sol_res.temperatures, sol_res.fraction_liquid, label='LIQUID')\n",
    "plt.ylabel('Phase Fraction')\n",
    "plt.xlabel('Temperature (K)')\n",
    "plt.title('Al-30Zn Scheil simulation, phase fractions')\n",
    "plt.legend(loc='best')\n",
    "plt.show()"
   ]
  },
  {
   "cell_type": "code",
   "execution_count": null,
   "id": "46768ded-ba08-4519-9011-1dbb77f48670",
   "metadata": {},
   "outputs": [],
   "source": []
  }
 ],
 "metadata": {
  "kernelspec": {
   "display_name": "Python 3",
   "language": "python",
   "name": "python3"
  },
  "language_info": {
   "codemirror_mode": {
    "name": "ipython",
    "version": 3
   },
   "file_extension": ".py",
   "mimetype": "text/x-python",
   "name": "python",
   "nbconvert_exporter": "python",
   "pygments_lexer": "ipython3",
   "version": "3.9.5"
  }
 },
 "nbformat": 4,
 "nbformat_minor": 5
}
